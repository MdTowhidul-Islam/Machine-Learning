{
  "nbformat": 4,
  "nbformat_minor": 0,
  "metadata": {
    "colab": {
      "provenance": []
    },
    "kernelspec": {
      "name": "python3",
      "display_name": "Python 3"
    },
    "language_info": {
      "name": "python"
    }
  },
  "cells": [
    {
      "cell_type": "markdown",
      "source": [
        "**Python data Structure & Boolean**\n",
        "\n",
        "\n",
        "\n",
        "\n"
      ],
      "metadata": {
        "id": "3HyMxM6BGnYg"
      }
    },
    {
      "cell_type": "markdown",
      "source": [
        "**Boolean**"
      ],
      "metadata": {
        "id": "r15A9ZAbG9yy"
      }
    },
    {
      "cell_type": "code",
      "source": [
        "print(True,False)"
      ],
      "metadata": {
        "colab": {
          "base_uri": "https://localhost:8080/"
        },
        "id": "ZJ7gwJhaG8Sv",
        "outputId": "ee5733fa-ed71-4313-ba34-13a38f97601d"
      },
      "execution_count": null,
      "outputs": [
        {
          "output_type": "stream",
          "name": "stdout",
          "text": [
            "True False\n"
          ]
        }
      ]
    },
    {
      "cell_type": "code",
      "source": [
        "my_str = 'Towhidul Islam Tazim'"
      ],
      "metadata": {
        "id": "h4E3QtMwLhFG"
      },
      "execution_count": null,
      "outputs": []
    },
    {
      "cell_type": "code",
      "source": [
        "print(my_str.isalpha())# check if all char in the string are alphabetic\n",
        "print(my_str.isalnum())# all char are numbers\n",
        "print(my_str.istitle())# title words\n",
        "print(my_str.isspace())# test if string contains space\n",
        "print(my_str.isupper())\n",
        "print(my_str.islower())\n",
        "print(my_str.isspace())\n",
        "print(my_str.endswith('m'))\n",
        "print(my_str.startswith('m'))"
      ],
      "metadata": {
        "colab": {
          "base_uri": "https://localhost:8080/"
        },
        "id": "eXunNf0jLx1S",
        "outputId": "3e6f95f0-ee2c-4841-91b7-139d2a67524f"
      },
      "execution_count": null,
      "outputs": [
        {
          "output_type": "stream",
          "name": "stdout",
          "text": [
            "False\n",
            "False\n",
            "True\n",
            "False\n",
            "False\n",
            "False\n",
            "False\n",
            "True\n",
            "False\n"
          ]
        }
      ]
    },
    {
      "cell_type": "markdown",
      "source": [
        "**Boolean & Logical Operator**"
      ],
      "metadata": {
        "id": "bJs1G25iOMLe"
      }
    },
    {
      "cell_type": "code",
      "source": [
        "True and False\n"
      ],
      "metadata": {
        "colab": {
          "base_uri": "https://localhost:8080/"
        },
        "id": "nRrt8AMNOTDq",
        "outputId": "38602f9d-ac53-403a-c620-9baa38f4df80"
      },
      "execution_count": null,
      "outputs": [
        {
          "output_type": "execute_result",
          "data": {
            "text/plain": [
              "False"
            ]
          },
          "metadata": {},
          "execution_count": 15
        }
      ]
    },
    {
      "cell_type": "code",
      "source": [
        "True and True\n"
      ],
      "metadata": {
        "colab": {
          "base_uri": "https://localhost:8080/"
        },
        "id": "SVuIKlQ2ObXJ",
        "outputId": "e1efbb41-a663-4520-ebfd-bd520ea7ae3e"
      },
      "execution_count": null,
      "outputs": [
        {
          "output_type": "execute_result",
          "data": {
            "text/plain": [
              "True"
            ]
          },
          "metadata": {},
          "execution_count": 13
        }
      ]
    },
    {
      "cell_type": "code",
      "source": [
        "False and False\n"
      ],
      "metadata": {
        "colab": {
          "base_uri": "https://localhost:8080/"
        },
        "id": "y2b8V4WDO25i",
        "outputId": "a712bf16-aaaf-4233-83b9-257465ff8819"
      },
      "execution_count": null,
      "outputs": [
        {
          "output_type": "execute_result",
          "data": {
            "text/plain": [
              "False"
            ]
          },
          "metadata": {},
          "execution_count": 14
        }
      ]
    },
    {
      "cell_type": "code",
      "source": [
        "True or True\n"
      ],
      "metadata": {
        "colab": {
          "base_uri": "https://localhost:8080/"
        },
        "id": "ZeYD7joOO5Zh",
        "outputId": "43e3fbdf-e8ea-48a5-b04e-b728816c4b54"
      },
      "execution_count": null,
      "outputs": [
        {
          "output_type": "execute_result",
          "data": {
            "text/plain": [
              "True"
            ]
          },
          "metadata": {},
          "execution_count": 16
        }
      ]
    },
    {
      "cell_type": "code",
      "source": [
        "True or False\n"
      ],
      "metadata": {
        "colab": {
          "base_uri": "https://localhost:8080/"
        },
        "id": "MASkRtlXO9uB",
        "outputId": "b20ef71e-877b-47b9-eaad-9e6f1aefe5a3"
      },
      "execution_count": null,
      "outputs": [
        {
          "output_type": "execute_result",
          "data": {
            "text/plain": [
              "True"
            ]
          },
          "metadata": {},
          "execution_count": 17
        }
      ]
    },
    {
      "cell_type": "code",
      "source": [
        "False or True"
      ],
      "metadata": {
        "colab": {
          "base_uri": "https://localhost:8080/"
        },
        "id": "riT_p58gO_xU",
        "outputId": "6949a3ea-98bb-4c59-92f9-3d48a9a01cb4"
      },
      "execution_count": null,
      "outputs": [
        {
          "output_type": "execute_result",
          "data": {
            "text/plain": [
              "True"
            ]
          },
          "metadata": {},
          "execution_count": 18
        }
      ]
    },
    {
      "cell_type": "code",
      "source": [
        "str_exm= 'Hello World'\n",
        "my_str = 'Tazim'"
      ],
      "metadata": {
        "id": "JnK-6jDEPA8K"
      },
      "execution_count": null,
      "outputs": []
    },
    {
      "cell_type": "code",
      "source": [
        "my_str.isalpha() or str_exm.isnum()"
      ],
      "metadata": {
        "colab": {
          "base_uri": "https://localhost:8080/"
        },
        "id": "adJ9a_btPllP",
        "outputId": "83d94b19-91b1-41c7-b83a-0f5ee66bbc77"
      },
      "execution_count": null,
      "outputs": [
        {
          "output_type": "execute_result",
          "data": {
            "text/plain": [
              "True"
            ]
          },
          "metadata": {},
          "execution_count": 20
        }
      ]
    },
    {
      "cell_type": "markdown",
      "source": [
        "**Lists**\n",
        "\n",
        "---\n",
        "*Lists are defined by having values between square brackets[  ]*\n",
        "\n",
        "\n"
      ],
      "metadata": {
        "id": "9KfU3gFbP5kq"
      }
    },
    {
      "cell_type": "code",
      "source": [
        "lst= list()"
      ],
      "metadata": {
        "id": "hLCeb245P8cE"
      },
      "execution_count": null,
      "outputs": []
    },
    {
      "cell_type": "code",
      "source": [
        "type (lst)"
      ],
      "metadata": {
        "colab": {
          "base_uri": "https://localhost:8080/"
        },
        "id": "8w8tcb_HRM9_",
        "outputId": "7ac57998-16e1-44ff-ed25-c47ff2dd2865"
      },
      "execution_count": null,
      "outputs": [
        {
          "output_type": "execute_result",
          "data": {
            "text/plain": [
              "list"
            ]
          },
          "metadata": {},
          "execution_count": 25
        }
      ]
    },
    {
      "cell_type": "code",
      "source": [
        "lst=['red','Blue','Chemistry',100,200,500,700]"
      ],
      "metadata": {
        "id": "rZdYwHdxaptS"
      },
      "execution_count": null,
      "outputs": []
    },
    {
      "cell_type": "markdown",
      "source": [
        "**Append**\n",
        "\n",
        "---\n",
        "*Append used to add elements in the list*\n",
        "\n",
        "\n"
      ],
      "metadata": {
        "id": "wwzarn6Da4_a"
      }
    },
    {
      "cell_type": "code",
      "source": [
        "lst.append('Tazim')"
      ],
      "metadata": {
        "id": "1s0SUw1da8qt"
      },
      "execution_count": null,
      "outputs": []
    },
    {
      "cell_type": "code",
      "source": [
        "lst"
      ],
      "metadata": {
        "colab": {
          "base_uri": "https://localhost:8080/"
        },
        "id": "PZFDF76CbZ8D",
        "outputId": "2787ff77-8eb1-4184-f09e-94ffd14f53ed"
      },
      "execution_count": null,
      "outputs": [
        {
          "output_type": "execute_result",
          "data": {
            "text/plain": [
              "['red', 'Dog', 'Blue', 'Chemistry', 100, 200, 500, 700, 'Tazim']"
            ]
          },
          "metadata": {},
          "execution_count": 33
        }
      ]
    },
    {
      "cell_type": "code",
      "source": [
        "#indexing in list\n",
        "lst[6]"
      ],
      "metadata": {
        "colab": {
          "base_uri": "https://localhost:8080/"
        },
        "id": "LvkGRmx6cLaQ",
        "outputId": "b70e341e-9ce7-435d-837c-46ab4f659a7a"
      },
      "execution_count": null,
      "outputs": [
        {
          "output_type": "execute_result",
          "data": {
            "text/plain": [
              "500"
            ]
          },
          "metadata": {},
          "execution_count": 34
        }
      ]
    },
    {
      "cell_type": "code",
      "source": [
        "lst[1:6]"
      ],
      "metadata": {
        "colab": {
          "base_uri": "https://localhost:8080/"
        },
        "id": "vtTeaSpGcYUm",
        "outputId": "2a8d6c78-1316-4a2c-e602-14c3a1d34222"
      },
      "execution_count": null,
      "outputs": [
        {
          "output_type": "execute_result",
          "data": {
            "text/plain": [
              "['Dog', 'Blue', 'Chemistry', 100, 200]"
            ]
          },
          "metadata": {},
          "execution_count": 35
        }
      ]
    },
    {
      "cell_type": "markdown",
      "source": [
        "**Insert**\n",
        "\n",
        "---\n",
        "*Insert used in a specific order*"
      ],
      "metadata": {
        "id": "W6o_4X17bctx"
      }
    },
    {
      "cell_type": "code",
      "source": [
        "lst.insert(1, 'Dog')"
      ],
      "metadata": {
        "id": "iSe5ei7Wbvv7"
      },
      "execution_count": null,
      "outputs": []
    },
    {
      "cell_type": "code",
      "source": [
        "lst"
      ],
      "metadata": {
        "colab": {
          "base_uri": "https://localhost:8080/"
        },
        "id": "VfMBYnw_b9Ht",
        "outputId": "0a6ce9f3-b65a-4729-c65c-b7a69057499b"
      },
      "execution_count": null,
      "outputs": [
        {
          "output_type": "execute_result",
          "data": {
            "text/plain": [
              "['red', 'Dog', 'Blue', 'Chemistry', 100, 200, 500, 700, 'Tazim']"
            ]
          },
          "metadata": {},
          "execution_count": 32
        }
      ]
    },
    {
      "cell_type": "markdown",
      "source": [
        "**Extend**"
      ],
      "metadata": {
        "id": "hy31jcfWck0X"
      }
    },
    {
      "cell_type": "code",
      "source": [
        "lst= [1,2,3,4,5,6]"
      ],
      "metadata": {
        "id": "5RrA7j0qcqER"
      },
      "execution_count": null,
      "outputs": []
    },
    {
      "cell_type": "code",
      "source": [
        "lst.extend([9,10])"
      ],
      "metadata": {
        "id": "u37Gbvyzczae"
      },
      "execution_count": null,
      "outputs": []
    },
    {
      "cell_type": "code",
      "source": [
        "lst"
      ],
      "metadata": {
        "colab": {
          "base_uri": "https://localhost:8080/"
        },
        "id": "YUdzD8endDbV",
        "outputId": "93e1e2cf-f365-476a-a83e-05589d7efb53"
      },
      "execution_count": null,
      "outputs": [
        {
          "output_type": "execute_result",
          "data": {
            "text/plain": [
              "[1, 2, 3, 4, 5, 6, 9, 10, 9, 10, 9, 10]"
            ]
          },
          "metadata": {},
          "execution_count": 40
        }
      ]
    },
    {
      "cell_type": "code",
      "source": [
        "lst= [1,2,3,4,5,6]"
      ],
      "metadata": {
        "id": "wlN508OLdEkM"
      },
      "execution_count": null,
      "outputs": []
    },
    {
      "cell_type": "code",
      "source": [
        "sum(lst)"
      ],
      "metadata": {
        "colab": {
          "base_uri": "https://localhost:8080/"
        },
        "id": "H6X7GRuvdUb5",
        "outputId": "a72742af-9e8e-45f9-a0fd-9b5c5dd2afaf"
      },
      "execution_count": null,
      "outputs": [
        {
          "output_type": "execute_result",
          "data": {
            "text/plain": [
              "21"
            ]
          },
          "metadata": {},
          "execution_count": 42
        }
      ]
    },
    {
      "cell_type": "markdown",
      "source": [
        "**pop() Method**\n",
        "\n",
        "---\n",
        "Delete\n"
      ],
      "metadata": {
        "id": "kpqq1aC2dZAB"
      }
    },
    {
      "cell_type": "code",
      "source": [
        "lst.pop()"
      ],
      "metadata": {
        "colab": {
          "base_uri": "https://localhost:8080/"
        },
        "id": "qloGlYj-ddgw",
        "outputId": "b668756f-e752-42c3-f471-b83597d1578f"
      },
      "execution_count": null,
      "outputs": [
        {
          "output_type": "execute_result",
          "data": {
            "text/plain": [
              "6"
            ]
          },
          "metadata": {},
          "execution_count": 43
        }
      ]
    },
    {
      "cell_type": "code",
      "source": [
        "lst.pop(2)"
      ],
      "metadata": {
        "colab": {
          "base_uri": "https://localhost:8080/"
        },
        "id": "b0fpHn7eeBib",
        "outputId": "cbee6df7-d49c-4e8a-8a9a-0db4be4dbd9d"
      },
      "execution_count": null,
      "outputs": [
        {
          "output_type": "execute_result",
          "data": {
            "text/plain": [
              "3"
            ]
          },
          "metadata": {},
          "execution_count": 44
        }
      ]
    },
    {
      "cell_type": "code",
      "source": [
        "lst"
      ],
      "metadata": {
        "colab": {
          "base_uri": "https://localhost:8080/"
        },
        "id": "gQNFVWsDeIvo",
        "outputId": "5b5f8344-136b-403d-ef88-9f533667265a"
      },
      "execution_count": null,
      "outputs": [
        {
          "output_type": "execute_result",
          "data": {
            "text/plain": [
              "[1, 2, 4, 5]"
            ]
          },
          "metadata": {},
          "execution_count": 45
        }
      ]
    },
    {
      "cell_type": "markdown",
      "source": [
        "**Count(): Calculate Total Occurrence of given element of list**"
      ],
      "metadata": {
        "id": "0JozjkRWeYfF"
      }
    },
    {
      "cell_type": "code",
      "source": [
        "lst= [1,1,1,2,3,4,2,5,2,5,3,2,2]"
      ],
      "metadata": {
        "id": "kftRY6epekb2"
      },
      "execution_count": null,
      "outputs": []
    },
    {
      "cell_type": "code",
      "source": [
        "lst.count(2)"
      ],
      "metadata": {
        "colab": {
          "base_uri": "https://localhost:8080/"
        },
        "id": "o-lB7S54e0My",
        "outputId": "993de349-7a3d-4d3d-99f0-6873437758dd"
      },
      "execution_count": null,
      "outputs": [
        {
          "output_type": "execute_result",
          "data": {
            "text/plain": [
              "5"
            ]
          },
          "metadata": {},
          "execution_count": 47
        }
      ]
    },
    {
      "cell_type": "code",
      "source": [
        "len(lst)"
      ],
      "metadata": {
        "colab": {
          "base_uri": "https://localhost:8080/"
        },
        "id": "tkfkH0w8e305",
        "outputId": "3e5e5d4d-e36a-448d-b1ae-39a05d4881a6"
      },
      "execution_count": null,
      "outputs": [
        {
          "output_type": "execute_result",
          "data": {
            "text/plain": [
              "13"
            ]
          },
          "metadata": {},
          "execution_count": 48
        }
      ]
    },
    {
      "cell_type": "code",
      "source": [
        "#index(): retuens the index of 1st occurence.Start and end index are not necessary parameters\n",
        "lst.index(1,0,4)"
      ],
      "metadata": {
        "colab": {
          "base_uri": "https://localhost:8080/"
        },
        "id": "okb9RFJHfALV",
        "outputId": "97f56728-cf3d-4d23-8e3a-3a9820631a41"
      },
      "execution_count": null,
      "outputs": [
        {
          "output_type": "execute_result",
          "data": {
            "text/plain": [
              "0"
            ]
          },
          "metadata": {},
          "execution_count": 51
        }
      ]
    },
    {
      "cell_type": "code",
      "source": [
        "min(lst)\n"
      ],
      "metadata": {
        "colab": {
          "base_uri": "https://localhost:8080/"
        },
        "id": "j-wpNLa_fq3F",
        "outputId": "b4e09b66-317e-4a46-ee82-fb433cdeef85"
      },
      "execution_count": null,
      "outputs": [
        {
          "output_type": "execute_result",
          "data": {
            "text/plain": [
              "1"
            ]
          },
          "metadata": {},
          "execution_count": 53
        }
      ]
    },
    {
      "cell_type": "code",
      "source": [
        "max(lst)"
      ],
      "metadata": {
        "id": "n8RcPvgIf1PH",
        "outputId": "caa68757-a0d9-432a-d3a2-857b6a8d125e",
        "colab": {
          "base_uri": "https://localhost:8080/"
        }
      },
      "execution_count": null,
      "outputs": [
        {
          "output_type": "execute_result",
          "data": {
            "text/plain": [
              "5"
            ]
          },
          "metadata": {},
          "execution_count": 54
        }
      ]
    },
    {
      "cell_type": "markdown",
      "source": [
        "**Sets**\n",
        "\n",
        "---\n",
        "A set is an unordered collection data type that is iterable and has no duplicate element\n"
      ],
      "metadata": {
        "id": "tjlpTrz8YvbA"
      }
    },
    {
      "cell_type": "code",
      "source": [
        "set_bar= set()\n",
        "print(set_bar)\n",
        "print(type(set_bar))"
      ],
      "metadata": {
        "colab": {
          "base_uri": "https://localhost:8080/"
        },
        "id": "iPKhqgu8ZFe0",
        "outputId": "736d0ac3-dedd-4f15-ff9a-80fb56bc7626"
      },
      "execution_count": 2,
      "outputs": [
        {
          "output_type": "stream",
          "name": "stdout",
          "text": [
            "set()\n",
            "<class 'set'>\n"
          ]
        }
      ]
    },
    {
      "cell_type": "code",
      "source": [
        "set_bar= {'cat','dog','snake'}\n",
        "print(set_bar)\n",
        "type(set_bar)"
      ],
      "metadata": {
        "colab": {
          "base_uri": "https://localhost:8080/"
        },
        "id": "CCjGFoaQZsrj",
        "outputId": "53a3f3a2-1cb5-4347-831e-7aeb7c031db1"
      },
      "execution_count": 4,
      "outputs": [
        {
          "output_type": "stream",
          "name": "stdout",
          "text": [
            "{'dog', 'snake', 'cat'}\n"
          ]
        },
        {
          "output_type": "execute_result",
          "data": {
            "text/plain": [
              "set"
            ]
          },
          "metadata": {},
          "execution_count": 4
        }
      ]
    },
    {
      "cell_type": "code",
      "source": [
        "# Inbuilt function in sets\n",
        "set_bar.add('Tiger')"
      ],
      "metadata": {
        "id": "hO8MfDYvaG3p"
      },
      "execution_count": 7,
      "outputs": []
    },
    {
      "cell_type": "code",
      "source": [
        "print(set_bar)"
      ],
      "metadata": {
        "colab": {
          "base_uri": "https://localhost:8080/"
        },
        "id": "Ra4vMa4aaVcX",
        "outputId": "6506f6f0-007d-4ee8-cdc8-f45efd156a27"
      },
      "execution_count": 8,
      "outputs": [
        {
          "output_type": "stream",
          "name": "stdout",
          "text": [
            "{'dog', 'Tiger', 'snake', 'cat'}\n"
          ]
        }
      ]
    },
    {
      "cell_type": "code",
      "source": [
        "Set1= {'Avengers','Ironman','Captain America','Thor'}\n",
        "Set2= {'Avengers','Ironman','Captain America','Thor','Hulk','Antman'}"
      ],
      "metadata": {
        "id": "HkQpc6m2aZzF"
      },
      "execution_count": 19,
      "outputs": []
    },
    {
      "cell_type": "code",
      "source": [
        "Set2.intersection_update(Set1)\n"
      ],
      "metadata": {
        "id": "IR8dmAdobzD0"
      },
      "execution_count": 20,
      "outputs": []
    },
    {
      "cell_type": "code",
      "source": [
        "Set2"
      ],
      "metadata": {
        "colab": {
          "base_uri": "https://localhost:8080/"
        },
        "id": "WyTTUTGPcFYv",
        "outputId": "ee5772d1-126c-4266-9564-dcde4b03afe4"
      },
      "execution_count": 21,
      "outputs": [
        {
          "output_type": "execute_result",
          "data": {
            "text/plain": [
              "{'Avengers', 'Captain America', 'Ironman', 'Thor'}"
            ]
          },
          "metadata": {},
          "execution_count": 21
        }
      ]
    },
    {
      "cell_type": "code",
      "source": [
        "#difference\n",
        "Set2.difference(Set1)"
      ],
      "metadata": {
        "colab": {
          "base_uri": "https://localhost:8080/"
        },
        "id": "w4WIXBgvbDlO",
        "outputId": "6ad425b1-3ceb-4541-8677-5242995c6c9b"
      },
      "execution_count": 11,
      "outputs": [
        {
          "output_type": "execute_result",
          "data": {
            "text/plain": [
              "{'Antman', 'Hulk'}"
            ]
          },
          "metadata": {},
          "execution_count": 11
        }
      ]
    },
    {
      "cell_type": "code",
      "source": [
        "#Difference & Update\n",
        "Set2.difference_update(Set1)"
      ],
      "metadata": {
        "id": "_Z5d6sPzbMYo"
      },
      "execution_count": 12,
      "outputs": []
    },
    {
      "cell_type": "code",
      "source": [
        "print(Set2)"
      ],
      "metadata": {
        "colab": {
          "base_uri": "https://localhost:8080/"
        },
        "id": "LgbliNWnbiSv",
        "outputId": "17e65e84-56e6-4cf0-bfa1-0c1eb2483245"
      },
      "execution_count": 13,
      "outputs": [
        {
          "output_type": "stream",
          "name": "stdout",
          "text": [
            "{'Antman', 'Hulk'}\n"
          ]
        }
      ]
    },
    {
      "cell_type": "markdown",
      "source": [
        "**Dictoinaries**\n",
        "\n",
        "---\n",
        "it is a collection which is unordered,changeable. Dictionaries have keys and values\n"
      ],
      "metadata": {
        "id": "7qxy6GD8bnoG"
      }
    },
    {
      "cell_type": "code",
      "source": [
        "dic={}\n",
        "type(dic)"
      ],
      "metadata": {
        "colab": {
          "base_uri": "https://localhost:8080/"
        },
        "id": "i650wijAbk_c",
        "outputId": "695be80b-6dbd-4afe-d99d-93431647162b"
      },
      "execution_count": 29,
      "outputs": [
        {
          "output_type": "execute_result",
          "data": {
            "text/plain": [
              "dict"
            ]
          },
          "metadata": {},
          "execution_count": 29
        }
      ]
    },
    {
      "cell_type": "code",
      "source": [
        "dic={1,2,3,4,5}"
      ],
      "metadata": {
        "id": "_ieP8Ywxc6sP"
      },
      "execution_count": 27,
      "outputs": []
    },
    {
      "cell_type": "code",
      "source": [
        "type(dic)"
      ],
      "metadata": {
        "colab": {
          "base_uri": "https://localhost:8080/"
        },
        "id": "fG-XVc5McpsT",
        "outputId": "eb880859-2d85-4918-da44-a692c976aee6"
      },
      "execution_count": 28,
      "outputs": [
        {
          "output_type": "execute_result",
          "data": {
            "text/plain": [
              "set"
            ]
          },
          "metadata": {},
          "execution_count": 28
        }
      ]
    },
    {
      "cell_type": "code",
      "source": [
        "#Create a dictioinary\n",
        "my_dict= {'car1':'Audi','car2':'Marcidies ','car3':'Ferari'}"
      ],
      "metadata": {
        "id": "cdpXcQ2IcxlQ"
      },
      "execution_count": 30,
      "outputs": []
    },
    {
      "cell_type": "code",
      "source": [
        "my_dict['car1']#access item values based on keys"
      ],
      "metadata": {
        "colab": {
          "base_uri": "https://localhost:8080/",
          "height": 35
        },
        "id": "cgoSRcv4dvA-",
        "outputId": "f01753bd-29bb-4cf3-dfa8-50b3f46d83c7"
      },
      "execution_count": 31,
      "outputs": [
        {
          "output_type": "execute_result",
          "data": {
            "text/plain": [
              "'Audi'"
            ],
            "application/vnd.google.colaboratory.intrinsic+json": {
              "type": "string"
            }
          },
          "metadata": {},
          "execution_count": 31
        }
      ]
    },
    {
      "cell_type": "code",
      "source": [
        "#loop the dict keys\n",
        "for X in my_dict:\n",
        "  print(X)"
      ],
      "metadata": {
        "colab": {
          "base_uri": "https://localhost:8080/"
        },
        "id": "zPhX-WcReBGf",
        "outputId": "096ef00c-b0ad-4186-85b5-07c575610aef"
      },
      "execution_count": 33,
      "outputs": [
        {
          "output_type": "stream",
          "name": "stdout",
          "text": [
            "car1\n",
            "car2\n",
            "car3\n"
          ]
        }
      ]
    },
    {
      "cell_type": "code",
      "source": [
        "#loop the dict values\n",
        "for X in my_dict.values():\n",
        "  print(X)"
      ],
      "metadata": {
        "colab": {
          "base_uri": "https://localhost:8080/"
        },
        "id": "fv0JT6gbePHu",
        "outputId": "18ae4b62-382d-46f4-e751-93762d62cc95"
      },
      "execution_count": 34,
      "outputs": [
        {
          "output_type": "stream",
          "name": "stdout",
          "text": [
            "Audi\n",
            "Marcidies \n",
            "Ferari\n"
          ]
        }
      ]
    },
    {
      "cell_type": "code",
      "source": [
        "#check both keys & values\n",
        "#loop the dict keys\n",
        "for X in my_dict.items():\n",
        "  print(X)"
      ],
      "metadata": {
        "colab": {
          "base_uri": "https://localhost:8080/"
        },
        "id": "Qfn460yWecWv",
        "outputId": "de930ed3-6dd9-4604-d852-642f3c282f3c"
      },
      "execution_count": 35,
      "outputs": [
        {
          "output_type": "stream",
          "name": "stdout",
          "text": [
            "('car1', 'Audi')\n",
            "('car2', 'Marcidies ')\n",
            "('car3', 'Ferari')\n"
          ]
        }
      ]
    },
    {
      "cell_type": "code",
      "source": [
        "#adding Item\n",
        "my_dict['car4']= 'BMW'"
      ],
      "metadata": {
        "id": "aprEPhzpeqcd"
      },
      "execution_count": 36,
      "outputs": []
    },
    {
      "cell_type": "code",
      "source": [
        "my_dict"
      ],
      "metadata": {
        "colab": {
          "base_uri": "https://localhost:8080/"
        },
        "id": "B6h0eWkfe3Ku",
        "outputId": "c17f6366-9a60-4aa4-9a3f-d954400bafda"
      },
      "execution_count": 37,
      "outputs": [
        {
          "output_type": "execute_result",
          "data": {
            "text/plain": [
              "{'car1': 'Audi', 'car2': 'Marcidies ', 'car3': 'Ferari', 'car4': 'BMW'}"
            ]
          },
          "metadata": {},
          "execution_count": 37
        }
      ]
    },
    {
      "cell_type": "code",
      "source": [
        "my_dict['car1']= 'BMW' # same key value change"
      ],
      "metadata": {
        "id": "_xAFcwJ3fKRu"
      },
      "execution_count": 38,
      "outputs": []
    },
    {
      "cell_type": "code",
      "source": [
        "my_dict"
      ],
      "metadata": {
        "colab": {
          "base_uri": "https://localhost:8080/"
        },
        "id": "9LT53UgmfQPC",
        "outputId": "a78a2517-8689-42bc-be86-39ead736d6ca"
      },
      "execution_count": 39,
      "outputs": [
        {
          "output_type": "execute_result",
          "data": {
            "text/plain": [
              "{'car1': 'BMW', 'car2': 'Marcidies ', 'car3': 'Ferari', 'car4': 'BMW'}"
            ]
          },
          "metadata": {},
          "execution_count": 39
        }
      ]
    },
    {
      "cell_type": "markdown",
      "source": [
        "**Nested Dictionary**"
      ],
      "metadata": {
        "id": "lpZTL3o5e70z"
      }
    },
    {
      "cell_type": "code",
      "source": [
        "car_model1 = {'Marcedes':1960}\n",
        "car_model2 = {'Audo':1970}\n",
        "car_model3 = {'Ambassador':1980}\n",
        "\n",
        "Car_type = {'car1':car_model1,'car2':car_model2,'car3':car_model3}"
      ],
      "metadata": {
        "id": "zzJ0n8d9fBsO"
      },
      "execution_count": 41,
      "outputs": []
    },
    {
      "cell_type": "code",
      "source": [
        "print(Car_type)"
      ],
      "metadata": {
        "colab": {
          "base_uri": "https://localhost:8080/"
        },
        "id": "_26TigTSg3lJ",
        "outputId": "7a8daa56-9207-4b87-d72e-ef645eba40d6"
      },
      "execution_count": 44,
      "outputs": [
        {
          "output_type": "stream",
          "name": "stdout",
          "text": [
            "{'car1': {'Marcedes': 1960}, 'car2': {'Audo': 1970}, 'car3': {'Ambassador': 1980}}\n"
          ]
        }
      ]
    },
    {
      "cell_type": "code",
      "source": [
        "print(Car_type['car2'])#Accessing item in the dict"
      ],
      "metadata": {
        "colab": {
          "base_uri": "https://localhost:8080/"
        },
        "id": "-jdxxZrZg9q5",
        "outputId": "44972c30-33d5-4580-b38c-2a04f35c3c91"
      },
      "execution_count": 45,
      "outputs": [
        {
          "output_type": "stream",
          "name": "stdout",
          "text": [
            "{'Audo': 1970}\n"
          ]
        }
      ]
    },
    {
      "cell_type": "code",
      "source": [
        "print(Car_type['car1']['Marcedes'])"
      ],
      "metadata": {
        "colab": {
          "base_uri": "https://localhost:8080/"
        },
        "id": "TGvXo730hMvs",
        "outputId": "65eccacf-0616-4de2-e448-919dca2c0234"
      },
      "execution_count": 47,
      "outputs": [
        {
          "output_type": "stream",
          "name": "stdout",
          "text": [
            "1960\n"
          ]
        }
      ]
    },
    {
      "cell_type": "markdown",
      "source": [
        "**Tuples**"
      ],
      "metadata": {
        "id": "rG74fCT3hiO6"
      }
    },
    {
      "cell_type": "code",
      "source": [
        "#create empty tuples\n",
        "my_tuples =tuple()"
      ],
      "metadata": {
        "id": "H3_RaoJghvyl"
      },
      "execution_count": 48,
      "outputs": []
    },
    {
      "cell_type": "code",
      "source": [
        "type(my_tuples)"
      ],
      "metadata": {
        "colab": {
          "base_uri": "https://localhost:8080/"
        },
        "id": "MSrWb7RAh4MG",
        "outputId": "29eb547d-9661-4fe0-907a-348fa90ccbab"
      },
      "execution_count": 49,
      "outputs": [
        {
          "output_type": "execute_result",
          "data": {
            "text/plain": [
              "tuple"
            ]
          },
          "metadata": {},
          "execution_count": 49
        }
      ]
    },
    {
      "cell_type": "code",
      "source": [
        "my_tuples =('Tazim','Ahad','Nahid','kallu')"
      ],
      "metadata": {
        "id": "FmcNLMm8h73B"
      },
      "execution_count": 50,
      "outputs": []
    },
    {
      "cell_type": "code",
      "source": [
        "print (type(my_tuples))\n",
        "print(my_tuples)\n"
      ],
      "metadata": {
        "colab": {
          "base_uri": "https://localhost:8080/"
        },
        "id": "bGnKX1WpiSG8",
        "outputId": "919225c7-700f-4ab7-c0b6-9436fb4a9287"
      },
      "execution_count": 51,
      "outputs": [
        {
          "output_type": "stream",
          "name": "stdout",
          "text": [
            "<class 'tuple'>\n",
            "('Tazim', 'Ahad', 'Nahid', 'kallu')\n"
          ]
        }
      ]
    },
    {
      "cell_type": "code",
      "source": [
        "my_tuples[0]= 'Romel'# we cant update it"
      ],
      "metadata": {
        "colab": {
          "base_uri": "https://localhost:8080/",
          "height": 165
        },
        "id": "PrbkO1i6ijW4",
        "outputId": "31dbc526-73e4-4c32-bf38-e8dfc45087ca"
      },
      "execution_count": 52,
      "outputs": [
        {
          "output_type": "error",
          "ename": "TypeError",
          "evalue": "ignored",
          "traceback": [
            "\u001b[0;31m---------------------------------------------------------------------------\u001b[0m",
            "\u001b[0;31mTypeError\u001b[0m                                 Traceback (most recent call last)",
            "\u001b[0;32m<ipython-input-52-6bbd6597b47e>\u001b[0m in \u001b[0;36m<cell line: 1>\u001b[0;34m()\u001b[0m\n\u001b[0;32m----> 1\u001b[0;31m \u001b[0mmy_tuples\u001b[0m\u001b[0;34m[\u001b[0m\u001b[0;36m0\u001b[0m\u001b[0;34m]\u001b[0m\u001b[0;34m=\u001b[0m \u001b[0;34m'Romel'\u001b[0m\u001b[0;34m\u001b[0m\u001b[0;34m\u001b[0m\u001b[0m\n\u001b[0m",
            "\u001b[0;31mTypeError\u001b[0m: 'tuple' object does not support item assignment"
          ]
        }
      ]
    },
    {
      "cell_type": "code",
      "source": [
        "my_tuples.count('Tazim')"
      ],
      "metadata": {
        "colab": {
          "base_uri": "https://localhost:8080/"
        },
        "id": "woM738VojBYx",
        "outputId": "33368ade-72ba-45dc-9356-6dad46e1d241"
      },
      "execution_count": 53,
      "outputs": [
        {
          "output_type": "execute_result",
          "data": {
            "text/plain": [
              "1"
            ]
          },
          "metadata": {},
          "execution_count": 53
        }
      ]
    }
  ]
}