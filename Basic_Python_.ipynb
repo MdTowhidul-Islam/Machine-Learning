{
  "nbformat": 4,
  "nbformat_minor": 0,
  "metadata": {
    "colab": {
      "provenance": []
    },
    "kernelspec": {
      "name": "python3",
      "display_name": "Python 3"
    },
    "language_info": {
      "name": "python"
    }
  },
  "cells": [
    {
      "cell_type": "markdown",
      "source": [
        "**Python Basic Tutorial**"
      ],
      "metadata": {
        "id": "E0ExcGj54epq"
      }
    },
    {
      "cell_type": "code",
      "source": [
        "\n",
        "5+5"
      ],
      "metadata": {
        "colab": {
          "base_uri": "https://localhost:8080/"
        },
        "id": "ev_ZiMS74xMi",
        "outputId": "3eac3a74-e36f-49ba-b8f0-a021a2665d82"
      },
      "execution_count": 2,
      "outputs": [
        {
          "output_type": "execute_result",
          "data": {
            "text/plain": [
              "10"
            ]
          },
          "metadata": {},
          "execution_count": 2
        }
      ]
    },
    {
      "cell_type": "code",
      "source": [
        "5*7"
      ],
      "metadata": {
        "colab": {
          "base_uri": "https://localhost:8080/"
        },
        "id": "mdwpIVII44zH",
        "outputId": "6c9d722d-67fa-4de0-8312-bdd850a32761"
      },
      "execution_count": 3,
      "outputs": [
        {
          "output_type": "execute_result",
          "data": {
            "text/plain": [
              "35"
            ]
          },
          "metadata": {},
          "execution_count": 3
        }
      ]
    },
    {
      "cell_type": "code",
      "source": [
        "100/5"
      ],
      "metadata": {
        "colab": {
          "base_uri": "https://localhost:8080/"
        },
        "id": "gXIKzH1o4-zO",
        "outputId": "c0575841-0426-4ec1-de89-00c8987de60f"
      },
      "execution_count": 4,
      "outputs": [
        {
          "output_type": "execute_result",
          "data": {
            "text/plain": [
              "20.0"
            ]
          },
          "metadata": {},
          "execution_count": 4
        }
      ]
    },
    {
      "cell_type": "code",
      "source": [
        "10%2"
      ],
      "metadata": {
        "colab": {
          "base_uri": "https://localhost:8080/"
        },
        "id": "keTf_qNI5B75",
        "outputId": "800543c0-524c-45bd-b431-545485ae839d"
      },
      "execution_count": 5,
      "outputs": [
        {
          "output_type": "execute_result",
          "data": {
            "text/plain": [
              "0"
            ]
          },
          "metadata": {},
          "execution_count": 5
        }
      ]
    },
    {
      "cell_type": "code",
      "source": [
        "5**3"
      ],
      "metadata": {
        "colab": {
          "base_uri": "https://localhost:8080/"
        },
        "id": "AAPktMmv5G9n",
        "outputId": "f467bb25-ed18-45e6-c47a-ac775b6eac04"
      },
      "execution_count": 6,
      "outputs": [
        {
          "output_type": "execute_result",
          "data": {
            "text/plain": [
              "125"
            ]
          },
          "metadata": {},
          "execution_count": 6
        }
      ]
    },
    {
      "cell_type": "code",
      "source": [
        "#check the datatype"
      ],
      "metadata": {
        "id": "bCBJeS2m5O2b"
      },
      "execution_count": 7,
      "outputs": []
    },
    {
      "cell_type": "code",
      "source": [
        "type(250)"
      ],
      "metadata": {
        "colab": {
          "base_uri": "https://localhost:8080/"
        },
        "id": "AdJNNSFK5Rlp",
        "outputId": "7b5aef3e-ec87-4d15-887a-3dd9c3c75dbc"
      },
      "execution_count": 9,
      "outputs": [
        {
          "output_type": "execute_result",
          "data": {
            "text/plain": [
              "int"
            ]
          },
          "metadata": {},
          "execution_count": 9
        }
      ]
    },
    {
      "cell_type": "code",
      "source": [
        "type('Hello')"
      ],
      "metadata": {
        "colab": {
          "base_uri": "https://localhost:8080/"
        },
        "id": "nBpq5s4X5XVy",
        "outputId": "faa8220b-de46-43dd-b0b9-04d0e67a98fb"
      },
      "execution_count": 10,
      "outputs": [
        {
          "output_type": "execute_result",
          "data": {
            "text/plain": [
              "str"
            ]
          },
          "metadata": {},
          "execution_count": 10
        }
      ]
    },
    {
      "cell_type": "code",
      "source": [
        "type(True)"
      ],
      "metadata": {
        "colab": {
          "base_uri": "https://localhost:8080/"
        },
        "id": "EbLkrSVy5ajF",
        "outputId": "51cb55f4-c31e-4ab0-8b92-65f464b2bb41"
      },
      "execution_count": 11,
      "outputs": [
        {
          "output_type": "execute_result",
          "data": {
            "text/plain": [
              "bool"
            ]
          },
          "metadata": {},
          "execution_count": 11
        }
      ]
    },
    {
      "cell_type": "markdown",
      "source": [
        "**Strings**"
      ],
      "metadata": {
        "id": "H74VqAvx5qzZ"
      }
    },
    {
      "cell_type": "code",
      "source": [
        "a=15"
      ],
      "metadata": {
        "id": "Qf-QWkbn5iQ2"
      },
      "execution_count": 12,
      "outputs": []
    },
    {
      "cell_type": "code",
      "source": [
        "type(a)"
      ],
      "metadata": {
        "colab": {
          "base_uri": "https://localhost:8080/"
        },
        "id": "1Id1lXg259_V",
        "outputId": "7da6102f-c39e-4d06-a6a5-b3b5563d282b"
      },
      "execution_count": 13,
      "outputs": [
        {
          "output_type": "execute_result",
          "data": {
            "text/plain": [
              "int"
            ]
          },
          "metadata": {},
          "execution_count": 13
        }
      ]
    },
    {
      "cell_type": "code",
      "source": [
        "a='Tazim'"
      ],
      "metadata": {
        "id": "GP5t7Gvx6AF6"
      },
      "execution_count": 14,
      "outputs": []
    },
    {
      "cell_type": "code",
      "source": [
        "type(a)"
      ],
      "metadata": {
        "colab": {
          "base_uri": "https://localhost:8080/"
        },
        "id": "tvuWgcDX6D3H",
        "outputId": "479217a7-cad1-402a-f851-337c6179a564"
      },
      "execution_count": 15,
      "outputs": [
        {
          "output_type": "execute_result",
          "data": {
            "text/plain": [
              "str"
            ]
          },
          "metadata": {},
          "execution_count": 15
        }
      ]
    },
    {
      "cell_type": "code",
      "source": [
        "#Mathematical Operation\n",
        "a=15\n",
        "b=25\n",
        "print((a*b)+(a/b))#Follow BODMAS Rule"
      ],
      "metadata": {
        "colab": {
          "base_uri": "https://localhost:8080/"
        },
        "id": "c2l0PBkW6FdB",
        "outputId": "5a3fbca8-5b85-4689-c936-9ba811a6311d"
      },
      "execution_count": 17,
      "outputs": [
        {
          "output_type": "stream",
          "name": "stdout",
          "text": [
            "375.6\n"
          ]
        }
      ]
    },
    {
      "cell_type": "code",
      "source": [
        "#various ways of printing\n",
        "first_name= 'Md. Towhidul Islam'\n",
        "Last_name ='Tazim'"
      ],
      "metadata": {
        "id": "lbTRCY8O63T8"
      },
      "execution_count": 18,
      "outputs": []
    },
    {
      "cell_type": "code",
      "source": [
        "print('My first name is {} and last name is {}'.format(first_name,Last_name))"
      ],
      "metadata": {
        "colab": {
          "base_uri": "https://localhost:8080/"
        },
        "id": "8IvyJhxb7Nrq",
        "outputId": "293ee441-066c-4dec-fb78-13204470c3e5"
      },
      "execution_count": 20,
      "outputs": [
        {
          "output_type": "stream",
          "name": "stdout",
          "text": [
            "My first name is Md. Towhidul Islam and last name is Tazim\n"
          ]
        }
      ]
    },
    {
      "cell_type": "code",
      "source": [
        "print('My first name is {first} and last name is {last}'.format(first=first_name,last=Last_name))"
      ],
      "metadata": {
        "colab": {
          "base_uri": "https://localhost:8080/"
        },
        "id": "J_3umrE07tIs",
        "outputId": "f1321af1-c089-4b0a-c7c2-b14230cd50f6"
      },
      "execution_count": 21,
      "outputs": [
        {
          "output_type": "stream",
          "name": "stdout",
          "text": [
            "My first name is Md. Towhidul Islam and last name is Tazim\n"
          ]
        }
      ]
    },
    {
      "cell_type": "code",
      "source": [
        "len('Tazim')"
      ],
      "metadata": {
        "colab": {
          "base_uri": "https://localhost:8080/"
        },
        "id": "Vwz5GnZD8Dmk",
        "outputId": "d072d8ec-d744-4851-b8b6-4dd3bfccb95f"
      },
      "execution_count": 22,
      "outputs": [
        {
          "output_type": "execute_result",
          "data": {
            "text/plain": [
              "5"
            ]
          },
          "metadata": {},
          "execution_count": 22
        }
      ]
    },
    {
      "cell_type": "code",
      "source": [
        "type([1,2,3,4,5,6])"
      ],
      "metadata": {
        "colab": {
          "base_uri": "https://localhost:8080/"
        },
        "id": "RB7Eefy68JkE",
        "outputId": "e1418753-ef16-4002-855f-d952fa31bc7f"
      },
      "execution_count": 23,
      "outputs": [
        {
          "output_type": "execute_result",
          "data": {
            "text/plain": [
              "list"
            ]
          },
          "metadata": {},
          "execution_count": 23
        }
      ]
    }
  ]
}